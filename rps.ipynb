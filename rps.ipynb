{
 "cells": [
  {
   "cell_type": "code",
   "execution_count": 1,
   "metadata": {
    "colab": {
     "base_uri": "https://localhost:8080/"
    },
    "collapsed": true,
    "id": "hWz94WyKBhRo",
    "outputId": "f882bbab-3506-4d62-9841-32316ca7022e"
   },
   "outputs": [
    {
     "name": "stdout",
     "output_type": "stream",
     "text": [
      "\u001b[K     |████████████████████████████████| 1.3 MB 42.8 MB/s \n",
      "\u001b[K     |████████████████████████████████| 62 kB 1.8 MB/s \n",
      "\u001b[?25h"
     ]
    }
   ],
   "source": [
    "!pip install -q -U kaggle_environments"
   ]
  },
  {
   "cell_type": "code",
   "execution_count": 2,
   "metadata": {
    "colab": {
     "base_uri": "https://localhost:8080/"
    },
    "collapsed": true,
    "id": "Guam5Ah7BksV",
    "outputId": "d972fc72-10c9-49a1-ce4a-03469cc4b242"
   },
   "outputs": [
    {
     "name": "stdout",
     "output_type": "stream",
     "text": [
      "Loading environment lux_ai_2022 failed: No module named 'vec_noise'\n"
     ]
    }
   ],
   "source": [
    "import numpy as np\n",
    "import pandas as pd\n",
    "import random\n",
    "\n",
    "from kaggle_environments import make, evaluate"
   ]
  },
  {
   "cell_type": "code",
   "execution_count": 3,
   "metadata": {
    "colab": {
     "base_uri": "https://localhost:8080/"
    },
    "collapsed": true,
    "id": "PgOp4a19BnlV",
    "outputId": "23f7ced9-88b4-4aac-93fa-9e1620d2ae32"
   },
   "outputs": [
    {
     "name": "stdout",
     "output_type": "stream",
     "text": [
      "Writing rock_agent.py\n"
     ]
    }
   ],
   "source": [
    "\"\"\"Агент, играющий только камень\"\"\"\n",
    "\n",
    "%%writefile rock_agent.py\n",
    "def rock_agent(observation, configuration):\n",
    "    return 0"
   ]
  },
  {
   "cell_type": "code",
   "execution_count": 4,
   "metadata": {
    "colab": {
     "base_uri": "https://localhost:8080/"
    },
    "collapsed": true,
    "id": "4gXw3paRBqLI",
    "outputId": "9430e0cc-dc3e-42a9-b8e5-566f8bd308de"
   },
   "outputs": [
    {
     "name": "stdout",
     "output_type": "stream",
     "text": [
      "Writing paper_agent.py\n"
     ]
    }
   ],
   "source": [
    "\"\"\"Агент, играющий только бумагу\"\"\"\n",
    "\n",
    "%%writefile paper_agent.py\n",
    "def paper_agent(obsrvation, configuration):\n",
    "    return 1"
   ]
  },
  {
   "cell_type": "code",
   "execution_count": 5,
   "metadata": {
    "colab": {
     "base_uri": "https://localhost:8080/"
    },
    "collapsed": true,
    "id": "oTudaju9BsHN",
    "outputId": "9828790f-175f-4dd4-b17c-5613825e7bf2"
   },
   "outputs": [
    {
     "name": "stdout",
     "output_type": "stream",
     "text": [
      "Writing scissors_agent.py\n"
     ]
    }
   ],
   "source": [
    "\"\"\"Агент, играющий только ножницы\"\"\"\n",
    "\n",
    "\n",
    "%%writefile scissors_agent.py\n",
    "def scissors_agent(observation, configuration):\n",
    "    return 2"
   ]
  },
  {
   "cell_type": "code",
   "execution_count": 9,
   "metadata": {
    "colab": {
     "base_uri": "https://localhost:8080/"
    },
    "collapsed": true,
    "id": "zUUrrYs3BujD",
    "outputId": "30bbef90-6b8b-4e1f-a85d-184bb824f3d9"
   },
   "outputs": [
    {
     "name": "stdout",
     "output_type": "stream",
     "text": [
      "Writing copy_opponent.py\n"
     ]
    }
   ],
   "source": [
    "\"\"\"Агент, копирующий предыдущие действия оппонента\"\"\"\n",
    "\n",
    "%%writefile copy_opponent.py\n",
    "def copy_opponent(observation, configuration):\n",
    "    if observation.step > 0:\n",
    "        return observation.lastOpponentAction\n",
    "    else:\n",
    "        return random.randrange(0, configuration.signs)"
   ]
  },
  {
   "cell_type": "code",
   "execution_count": 12,
   "metadata": {
    "colab": {
     "base_uri": "https://localhost:8080/"
    },
    "collapsed": true,
    "id": "S2fqsUSREnOK",
    "outputId": "93ff2f1b-8910-4788-828a-4a9b4edfeb12"
   },
   "outputs": [
    {
     "name": "stdout",
     "output_type": "stream",
     "text": [
      "Writing random.py\n"
     ]
    }
   ],
   "source": [
    "\"\"\"Случайно играющий агент\"\"\"\n",
    "\n",
    "%%writefile random.py\n",
    "def random(observation, configuration):\n",
    "    return random.randrange(0, configuration.signs)"
   ]
  },
  {
   "cell_type": "code",
   "execution_count": 17,
   "metadata": {
    "colab": {
     "base_uri": "https://localhost:8080/"
    },
    "collapsed": true,
    "id": "4YDmJ2KHFvdv",
    "outputId": "bd591b92-5a25-4049-bb63-ea5d10421880"
   },
   "outputs": [
    {
     "data": {
      "text/plain": [
       "[[None, None]]"
      ]
     },
     "execution_count": 17,
     "metadata": {},
     "output_type": "execute_result"
    }
   ],
   "source": [
    "evaluate(\n",
    "    \"rps\",\n",
    "    [\"copy_opponent.py\", \"random.py\"],\n",
    "    configuration={\"episodeSteps\": 200}\n",
    ")"
   ]
  },
  {
   "cell_type": "code",
   "execution_count": 13,
   "metadata": {
    "colab": {
     "base_uri": "https://localhost:8080/"
    },
    "collapsed": true,
    "id": "Rx1WHFFuEiYF",
    "outputId": "a63bed7d-4bf3-45bb-8d2f-c8bf9d018de5"
   },
   "outputs": [
    {
     "data": {
      "text/plain": [
       "[[1, None]]"
      ]
     },
     "execution_count": 13,
     "metadata": {},
     "output_type": "execute_result"
    }
   ],
   "source": [
    "evaluate(\n",
    "    \"rps\",\n",
    "    [\"rock_agent.py\", \"random.py\"],\n",
    "    configuration={\"episodeSteps\": 100}\n",
    ")"
   ]
  }
 ],
 "metadata": {
  "colab": {
   "collapsed_sections": [],
   "provenance": []
  },
  "kernelspec": {
   "display_name": "Python 3 (ipykernel)",
   "language": "python",
   "name": "python3"
  },
  "language_info": {
   "codemirror_mode": {
    "name": "ipython",
    "version": 3
   },
   "file_extension": ".py",
   "mimetype": "text/x-python",
   "name": "python",
   "nbconvert_exporter": "python",
   "pygments_lexer": "ipython3",
   "version": "3.9.12"
  }
 },
 "nbformat": 4,
 "nbformat_minor": 1
}
